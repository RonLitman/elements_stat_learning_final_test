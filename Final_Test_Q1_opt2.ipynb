{
 "cells": [
  {
   "cell_type": "code",
   "execution_count": 1,
   "metadata": {},
   "outputs": [
    {
     "name": "stderr",
     "output_type": "stream",
     "text": [
      "Using TensorFlow backend.\n"
     ]
    }
   ],
   "source": [
    "import warnings\n",
    "warnings.filterwarnings('ignore')\n",
    "import numpy as np\n",
    "import matplotlib.pyplot as plt\n",
    "import matplotlib.image as mpimg\n",
    "import seaborn as sns\n",
    "from matplotlib import style\n",
    "style.use('fivethirtyeight')\n",
    "%matplotlib inline\n",
    "import pandas as pd\n",
    "from sklearn.metrics import confusion_matrix\n",
    "from keras.utils.np_utils import to_categorical # convert to one-hot-encoding\n",
    "from keras.models import Sequential\n",
    "from keras.layers import Dense, Dropout, Flatten, Conv2D, MaxPool2D, BatchNormalization\n",
    "from keras.optimizers import Adam\n",
    "from keras.preprocessing.image import ImageDataGenerator\n",
    "from keras.callbacks import LearningRateScheduler\n",
    "from utillities_Q1_op2 import *\n",
    "from keras.utils.np_utils import to_categorical # convert to one-hot-encoding\n",
    "from keras.models import Sequential\n",
    "from keras.layers import Dense, Dropout, Flatten, Conv2D, MaxPool2D\n",
    "from keras.optimizers import RMSprop\n",
    "from keras.preprocessing.image import ImageDataGenerator\n",
    "from keras.callbacks import ReduceLROnPlateau\n",
    "from sklearn.neural_network import MLPClassifier\n",
    "from sklearn.svm import SVC\n",
    "\n",
    "\n",
    "sns.set(style='white', context='notebook', palette='deep')"
   ]
  },
  {
   "cell_type": "markdown",
   "metadata": {
    "toc": true
   },
   "source": [
    "<h1>Table of Contents<span class=\"tocSkip\"></span></h1>\n",
    "<div class=\"toc\" style=\"margin-top: 1em;\"><ul class=\"toc-item\"><li><span><a href=\"#Into\" data-toc-modified-id=\"Into-1\"><span class=\"toc-item-num\">1&nbsp;&nbsp;</span>Into</a></span></li><li><span><a href=\"#Load-and-set-the-data\" data-toc-modified-id=\"Load-and-set-the-data-2\"><span class=\"toc-item-num\">2&nbsp;&nbsp;</span>Load and set the data</a></span></li><li><span><a href=\"#Plot-a-sample-Digits\" data-toc-modified-id=\"Plot-a-sample-Digits-3\"><span class=\"toc-item-num\">3&nbsp;&nbsp;</span>Plot a sample Digits</a></span></li><li><span><a href=\"#SVM\" data-toc-modified-id=\"SVM-4\"><span class=\"toc-item-num\">4&nbsp;&nbsp;</span>SVM</a></span><ul class=\"toc-item\"><li><span><a href=\"#Train\" data-toc-modified-id=\"Train-4.1\"><span class=\"toc-item-num\">4.1&nbsp;&nbsp;</span>Train</a></span></li><li><span><a href=\"#Metrics\" data-toc-modified-id=\"Metrics-4.2\"><span class=\"toc-item-num\">4.2&nbsp;&nbsp;</span>Metrics</a></span></li></ul></li><li><span><a href=\"#Simple-Fully-connected-NN-with-one-layer\" data-toc-modified-id=\"Simple-Fully-connected-NN-with-one-layer-5\"><span class=\"toc-item-num\">5&nbsp;&nbsp;</span>Simple Fully connected NN with one layer</a></span><ul class=\"toc-item\"><li><span><a href=\"#Train\" data-toc-modified-id=\"Train-5.1\"><span class=\"toc-item-num\">5.1&nbsp;&nbsp;</span>Train</a></span></li><li><span><a href=\"#Metrics\" data-toc-modified-id=\"Metrics-5.2\"><span class=\"toc-item-num\">5.2&nbsp;&nbsp;</span>Metrics</a></span></li></ul></li><li><span><a href=\"#CNN\" data-toc-modified-id=\"CNN-6\"><span class=\"toc-item-num\">6&nbsp;&nbsp;</span>CNN</a></span><ul class=\"toc-item\"><li><span><a href=\"#Model-Graph\" data-toc-modified-id=\"Model-Graph-6.1\"><span class=\"toc-item-num\">6.1&nbsp;&nbsp;</span>Model Graph</a></span></li><li><span><a href=\"#Metrics\" data-toc-modified-id=\"Metrics-6.2\"><span class=\"toc-item-num\">6.2&nbsp;&nbsp;</span>Metrics</a></span></li></ul></li></ul></div>"
   ]
  },
  {
   "cell_type": "markdown",
   "metadata": {},
   "source": [
    "## Into"
   ]
  },
  {
   "cell_type": "markdown",
   "metadata": {},
   "source": [
    "In order to predict the MNIST data set i will try 3 different methods:\n",
    "* SVM - One Vs All classification\n",
    "* NN - Small network with 1 big hiddend layer\n",
    "* CNN - Still a small network but with conv layers, pooling and dropout layers\n",
    "\n",
    "As you can see the test is not used for model selection so it is unseen data"
   ]
  },
  {
   "cell_type": "markdown",
   "metadata": {},
   "source": [
    "## Load and set the data"
   ]
  },
  {
   "cell_type": "code",
   "execution_count": 2,
   "metadata": {},
   "outputs": [
    {
     "name": "stdout",
     "output_type": "stream",
     "text": [
      "X Train data Shape: (524, 256)\n",
      "X Test data Shape: (1945, 256)\n",
      "Y Train data Shape: (524,)\n",
      "Y Test data Shape: (1945,)\n"
     ]
    }
   ],
   "source": [
    "# load in the data\n",
    "train, test = load_and_set_data()\n",
    "\n",
    "# set train and test vectors\n",
    "x_train, x_test, y_train, y_test = set_train_test(train, test)"
   ]
  },
  {
   "cell_type": "markdown",
   "metadata": {},
   "source": [
    "## Plot a sample Digits"
   ]
  },
  {
   "cell_type": "code",
   "execution_count": 3,
   "metadata": {},
   "outputs": [
    {
     "data": {
      "image/png": "[encoded data removed]",
      "text/plain": [
       "<matplotlib.figure.Figure at 0x115650d30>"
      ]
     },
     "metadata": {},
     "output_type": "display_data"
    }
   ],
   "source": [
    "#plot some numbers\n",
    "plot_some_number(train.drop(train.columns[0], axis=1), train[0], ind_list=[1])"
   ]
  },
  {
   "cell_type": "markdown",
   "metadata": {},
   "source": [
    "## SVM"
   ]
  },
  {
   "cell_type": "markdown",
   "metadata": {},
   "source": [
    "### Train"
   ]
  },
  {
   "cell_type": "code",
   "execution_count": 4,
   "metadata": {},
   "outputs": [
    {
     "data": {
      "text/plain": [
       "SVC(C=1.0, cache_size=200, class_weight=None, coef0=0.0,\n",
       "  decision_function_shape='ovr', degree=3, gamma='auto', kernel='rbf',\n",
       "  max_iter=-1, probability=False, random_state=None, shrinking=True,\n",
       "  tol=0.001, verbose=False)"
      ]
     },
     "execution_count": 4,
     "metadata": {},
     "output_type": "execute_result"
    }
   ],
   "source": [
    "clf = SVC()\n",
    "clf.fit(train.drop(train.columns[0], axis=1), train[0])"
   ]
  },
  {
   "cell_type": "markdown",
   "metadata": {},
   "source": [
    "### Metrics"
   ]
  },
  {
   "cell_type": "code",
   "execution_count": 5,
   "metadata": {},
   "outputs": [
    {
     "name": "stdout",
     "output_type": "stream",
     "text": [
      "Final accuracy on Train: 0.9751908396946565\n",
      "Final accuracy on Test: 0.9681233933161953\n"
     ]
    }
   ],
   "source": [
    "final_acc_train_svm = clf.score(train.drop(train.columns[0], axis=1), train[0])\n",
    "print(\"Final accuracy on Train: {}\".format(final_acc_train_svm))\n",
    "\n",
    "final_acc_test_svm = clf.score(test.drop(test.columns[0], axis=1), test[0])\n",
    "print(\"Final accuracy on Test: {}\".format(final_acc_test_svm))"
   ]
  },
  {
   "cell_type": "code",
   "execution_count": 6,
   "metadata": {},
   "outputs": [
    {
     "data": {
      "image/png": "[encoded data removed]",
      "text/plain": [
       "<matplotlib.figure.Figure at 0x115650550>"
      ]
     },
     "metadata": {},
     "output_type": "display_data"
    }
   ],
   "source": [
    "# Predict the values from the validation dataset\n",
    "Y_pred = clf.predict(test.drop(train.columns[0], axis=1))\n",
    "# compute the confusion matrix\n",
    "confusion_mtx = confusion_matrix(test[0], Y_pred) \n",
    "# plot the confusion matrix\n",
    "plot_confusion_matrix(confusion_mtx, classes = [2,3,5]) "
   ]
  },
  {
   "cell_type": "markdown",
   "metadata": {},
   "source": [
    "## Simple Fully connected NN with one layer"
   ]
  },
  {
   "cell_type": "markdown",
   "metadata": {},
   "source": [
    "### Train"
   ]
  },
  {
   "cell_type": "code",
   "execution_count": 7,
   "metadata": {},
   "outputs": [
    {
     "data": {
      "text/plain": [
       "MLPClassifier(activation='relu', alpha=1e-05, batch_size='auto', beta_1=0.9,\n",
       "       beta_2=0.999, early_stopping=False, epsilon=1e-08,\n",
       "       hidden_layer_sizes=(3500,), learning_rate='constant',\n",
       "       learning_rate_init=0.001, max_iter=200, momentum=0.9,\n",
       "       nesterovs_momentum=True, power_t=0.5, random_state=18, shuffle=True,\n",
       "       solver='lbfgs', tol=0.0001, validation_fraction=0.1, verbose=False,\n",
       "       warm_start=False)"
      ]
     },
     "execution_count": 7,
     "metadata": {},
     "output_type": "execute_result"
    }
   ],
   "source": [
    "clf = MLPClassifier(alpha=1e-5, hidden_layer_sizes=(3500,), solver='lbfgs', random_state=18)\n",
    "clf.fit(train.drop(train.columns[0], axis=1), train[0])"
   ]
  },
  {
   "cell_type": "markdown",
   "metadata": {},
   "source": [
    "### Metrics"
   ]
  },
  {
   "cell_type": "code",
   "execution_count": 8,
   "metadata": {},
   "outputs": [
    {
     "name": "stdout",
     "output_type": "stream",
     "text": [
      "Final accuracy on Train: 1.0\n",
      "Final accuracy on Test: 0.9455012853470437\n"
     ]
    }
   ],
   "source": [
    "final_acc_train_nn = clf.score(train.drop(train.columns[0], axis=1), train[0])\n",
    "print(\"Final accuracy on Train: {}\".format(final_acc_train_nn))\n",
    "\n",
    "final_acc_test_nn = clf.score(test.drop(test.columns[0], axis=1), test[0])\n",
    "print(\"Final accuracy on Test: {}\".format(final_acc_test_nn))"
   ]
  },
  {
   "cell_type": "code",
   "execution_count": 9,
   "metadata": {},
   "outputs": [
    {
     "data": {
      "image/png": "[encoded data removed]",
      "text/plain": [
       "<matplotlib.figure.Figure at 0x1160526d8>"
      ]
     },
     "metadata": {},
     "output_type": "display_data"
    }
   ],
   "source": [
    "# Predict the values from the validation dataset\n",
    "Y_pred = clf.predict(test.drop(train.columns[0], axis=1))\n",
    "# compute the confusion matrix\n",
    "confusion_mtx = confusion_matrix(test[0], Y_pred) \n",
    "# plot the confusion matrix\n",
    "plot_confusion_matrix(confusion_mtx, classes = [2,3,5]) "
   ]
  },
  {
   "cell_type": "markdown",
   "metadata": {},
   "source": [
    "## CNN"
   ]
  },
  {
   "cell_type": "markdown",
   "metadata": {},
   "source": [
    "### Model Graph"
   ]
  },
  {
   "cell_type": "code",
   "execution_count": 10,
   "metadata": {},
   "outputs": [],
   "source": [
    "# Set the CNN model \n",
    "# my CNN architechture is In -> [[Conv2D->relu]*2 -> MaxPool2D -> Dropout]*2 -> Flatten -> Dense -> Dropout -> Out\n",
    "\n",
    "model = Sequential()\n",
    "\n",
    "model.add(Conv2D(filters = 32, kernel_size = (5,5),padding = 'Same', \n",
    "                 activation ='relu', input_shape = (16,16,1)))\n",
    "model.add(Conv2D(filters = 32, kernel_size = (5,5),padding = 'Same', \n",
    "                 activation ='relu'))\n",
    "model.add(MaxPool2D(pool_size=(2,2)))\n",
    "model.add(Dropout(0.25))\n",
    "\n",
    "\n",
    "model.add(Conv2D(filters = 64, kernel_size = (3,3),padding = 'Same', \n",
    "                 activation ='relu'))\n",
    "model.add(Conv2D(filters = 64, kernel_size = (3,3),padding = 'Same', \n",
    "                 activation ='relu'))\n",
    "model.add(MaxPool2D(pool_size=(2,2), strides=(2,2)))\n",
    "model.add(Dropout(0.25))\n",
    "\n",
    "\n",
    "model.add(Flatten())\n",
    "model.add(Dense(256, activation = \"relu\"))\n",
    "model.add(Dropout(0.5))\n",
    "model.add(Dense(3, activation = \"softmax\"))"
   ]
  },
  {
   "cell_type": "code",
   "execution_count": 11,
   "metadata": {},
   "outputs": [],
   "source": [
    "# Define the optimizer\n",
    "optimizer = RMSprop(lr=0.001, rho=0.9, epsilon=1e-08, decay=0.0)"
   ]
  },
  {
   "cell_type": "code",
   "execution_count": 12,
   "metadata": {},
   "outputs": [],
   "source": [
    "# Compile the model\n",
    "model.compile(optimizer = optimizer , loss = \"categorical_crossentropy\", metrics=[\"accuracy\"])"
   ]
  },
  {
   "cell_type": "code",
   "execution_count": 13,
   "metadata": {},
   "outputs": [],
   "source": [
    "# Set a learning rate annealer\n",
    "learning_rate_reduction = ReduceLROnPlateau(monitor='val_acc', \n",
    "                                            patience=3, \n",
    "                                            verbose=1, \n",
    "                                            factor=0.5, \n",
    "                                            min_lr=0.00001)"
   ]
  },
  {
   "cell_type": "code",
   "execution_count": 14,
   "metadata": {},
   "outputs": [],
   "source": [
    "epochs = 20\n",
    "batch_size = 86\n",
    "\n",
    "# With data augmentation to prevent overfitting\n",
    "\n",
    "datagen = ImageDataGenerator(\n",
    "        featurewise_center=False,  # set input mean to 0 over the dataset\n",
    "        samplewise_center=False,  # set each sample mean to 0\n",
    "        featurewise_std_normalization=False,  # divide inputs by std of the dataset\n",
    "        samplewise_std_normalization=False,  # divide each input by its std\n",
    "        zca_whitening=False,  # apply ZCA whitening\n",
    "        rotation_range=10,  # randomly rotate images in the range (degrees, 0 to 180)\n",
    "        zoom_range = 0.1, # Randomly zoom image \n",
    "        width_shift_range=0.1,  # randomly shift images horizontally (fraction of total width)\n",
    "        height_shift_range=0.1,  # randomly shift images vertically (fraction of total height)\n",
    "        horizontal_flip=False,  # randomly flip images\n",
    "        vertical_flip=False)  # randomly flip images\n",
    "\n",
    "\n",
    "datagen.fit(x_train)"
   ]
  },
  {
   "cell_type": "code",
   "execution_count": 15,
   "metadata": {},
   "outputs": [
    {
     "name": "stdout",
     "output_type": "stream",
     "text": [
      "Epoch 1/20\n",
      " - 5s - loss: 1.1265 - acc: 0.3617 - val_loss: 0.9843 - val_acc: 0.8411\n",
      "Epoch 2/20\n",
      " - 4s - loss: 0.8984 - acc: 0.5619 - val_loss: 0.4184 - val_acc: 0.9147\n",
      "Epoch 3/20\n",
      " - 4s - loss: 0.6631 - acc: 0.7209 - val_loss: 0.2293 - val_acc: 0.9496\n",
      "Epoch 4/20\n",
      " - 3s - loss: 0.6389 - acc: 0.7762 - val_loss: 0.1938 - val_acc: 0.9717\n",
      "Epoch 5/20\n",
      " - 4s - loss: 0.3737 - acc: 0.8725 - val_loss: 0.1413 - val_acc: 0.9722\n",
      "Epoch 6/20\n",
      " - 4s - loss: 0.3544 - acc: 0.8605 - val_loss: 0.1346 - val_acc: 0.9758\n",
      "Epoch 7/20\n",
      " - 4s - loss: 0.3510 - acc: 0.8282 - val_loss: 0.1145 - val_acc: 0.9722\n",
      "Epoch 8/20\n",
      " - 4s - loss: 0.2568 - acc: 0.9145 - val_loss: 0.0791 - val_acc: 0.9763\n",
      "Epoch 9/20\n",
      " - 4s - loss: 0.3075 - acc: 0.8927 - val_loss: 0.0904 - val_acc: 0.9851\n",
      "Epoch 10/20\n",
      " - 4s - loss: 0.2670 - acc: 0.8944 - val_loss: 0.0824 - val_acc: 0.9866\n",
      "Epoch 11/20\n",
      " - 4s - loss: 0.2133 - acc: 0.9322 - val_loss: 0.0627 - val_acc: 0.9815\n",
      "Epoch 12/20\n",
      " - 3s - loss: 0.3490 - acc: 0.8971 - val_loss: 0.1768 - val_acc: 0.9460\n",
      "Epoch 13/20\n",
      " - 4s - loss: 0.2665 - acc: 0.9070 - val_loss: 0.0553 - val_acc: 0.9882\n",
      "Epoch 14/20\n",
      " - 4s - loss: 0.2037 - acc: 0.9384 - val_loss: 0.0436 - val_acc: 0.9887\n",
      "Epoch 15/20\n",
      " - 4s - loss: 0.2295 - acc: 0.9301 - val_loss: 0.0440 - val_acc: 0.9907\n",
      "Epoch 16/20\n",
      " - 4s - loss: 0.3346 - acc: 0.9103 - val_loss: 0.0469 - val_acc: 0.9877\n",
      "Epoch 17/20\n",
      " - 4s - loss: 0.1782 - acc: 0.9364 - val_loss: 0.0487 - val_acc: 0.9897\n",
      "Epoch 18/20\n",
      " - 4s - loss: 0.1127 - acc: 0.9642 - val_loss: 0.0483 - val_acc: 0.9851\n",
      "Epoch 19/20\n",
      "\n",
      "Epoch 00019: reducing learning rate to 0.0005000000237487257.\n",
      " - 4s - loss: 0.2013 - acc: 0.9523 - val_loss: 0.0518 - val_acc: 0.9835\n",
      "Epoch 20/20\n",
      " - 4s - loss: 0.1869 - acc: 0.9244 - val_loss: 0.0356 - val_acc: 0.9892\n"
     ]
    }
   ],
   "source": [
    "# Fit the model\n",
    "history = model.fit_generator(datagen.flow(x_train,y_train, batch_size=batch_size),\n",
    "                              epochs = epochs, validation_data = (x_test,y_test),\n",
    "                              verbose = 2, steps_per_epoch=x_train.shape[0] // batch_size\n",
    "                              , callbacks=[learning_rate_reduction])"
   ]
  },
  {
   "cell_type": "markdown",
   "metadata": {},
   "source": [
    "### Metrics"
   ]
  },
  {
   "cell_type": "code",
   "execution_count": 16,
   "metadata": {},
   "outputs": [
    {
     "data": {
      "image/png": "[encoded data removed]",
      "text/plain": [
       "<matplotlib.figure.Figure at 0x118778400>"
      ]
     },
     "metadata": {},
     "output_type": "display_data"
    },
    {
     "data": {
      "text/plain": [
       "<matplotlib.figure.Figure at 0x118778518>"
      ]
     },
     "metadata": {},
     "output_type": "display_data"
    }
   ],
   "source": [
    "# Plot the loss and accuracy curves for training and validation \n",
    "\n",
    "fig, ax = plt.subplots(2,1)\n",
    "plt.figure(figsize=(28,15))\n",
    "ax[0].plot(history.history['loss'], color='b', label=\"Training loss\")\n",
    "ax[0].plot(history.history['val_loss'], color='r', label=\"validation loss\",axes =ax[0])\n",
    "legend = ax[0].legend(loc='best', shadow=True)\n",
    "\n",
    "ax[1].plot(history.history['acc'], color='b', label=\"Training accuracy\")\n",
    "ax[1].plot(history.history['val_acc'], color='r',label=\"Validation accuracy\")\n",
    "legend = ax[1].legend(loc='best', shadow=True)"
   ]
  },
  {
   "cell_type": "code",
   "execution_count": 17,
   "metadata": {},
   "outputs": [
    {
     "data": {
      "image/png": "[encoded data removed]",
      "text/plain": [
       "<matplotlib.figure.Figure at 0x118651d68>"
      ]
     },
     "metadata": {},
     "output_type": "display_data"
    }
   ],
   "source": [
    "# Predict the values from the validation dataset\n",
    "Y_pred = model.predict(x_test)\n",
    "# Convert predictions classes to one hot vectors \n",
    "Y_pred_classes = np.argmax(Y_pred,axis = 1) \n",
    "# Convert validation observations to one hot vectors\n",
    "Y_true = np.argmax(y_test,axis = 1) \n",
    "# compute the confusion matrix\n",
    "confusion_mtx = confusion_matrix(Y_true, Y_pred_classes) \n",
    "# plot the confusion matrix\n",
    "plot_confusion_matrix(confusion_mtx, classes = [2,3,5]) "
   ]
  },
  {
   "cell_type": "code",
   "execution_count": 18,
   "metadata": {},
   "outputs": [],
   "source": [
    "# Display some error results \n",
    "\n",
    "# Errors are difference between predicted labels and true labels\n",
    "errors = (Y_pred_classes - Y_true != 0)\n",
    "\n",
    "Y_pred_classes_errors = Y_pred_classes[errors]\n",
    "Y_pred_errors = Y_pred[errors]\n",
    "Y_true_errors = Y_true[errors]\n",
    "X_val_errors = x_test[errors]"
   ]
  },
  {
   "cell_type": "code",
   "execution_count": 19,
   "metadata": {},
   "outputs": [
    {
     "data": {
      "image/png": "[encoded data removed]",
      "text/plain": [
       "<matplotlib.figure.Figure at 0x1187ea2b0>"
      ]
     },
     "metadata": {},
     "output_type": "display_data"
    }
   ],
   "source": [
    "# Probabilities of the wrong predicted numbers\n",
    "Y_pred_errors_prob = np.max(Y_pred_errors,axis = 1)\n",
    "\n",
    "# Predicted probabilities of the true values in the error set\n",
    "true_prob_errors = np.diagonal(np.take(Y_pred_errors, Y_true_errors, axis=1))\n",
    "\n",
    "# Difference between the probability of the predicted label and the true label\n",
    "delta_pred_true_errors = Y_pred_errors_prob - true_prob_errors\n",
    "\n",
    "# Sorted list of the delta prob errors\n",
    "sorted_dela_errors = np.argsort(delta_pred_true_errors)\n",
    "\n",
    "# Top 6 errors \n",
    "most_important_errors = sorted_dela_errors[-6:]\n",
    "\n",
    "# Show the top 6 errors\n",
    "display_errors(most_important_errors, X_val_errors, Y_pred_classes_errors, Y_true_errors)"
   ]
  },
  {
   "cell_type": "code",
   "execution_count": null,
   "metadata": {},
   "outputs": [],
   "source": []
  }
 ],
 "metadata": {
  "kernelspec": {
   "display_name": "Python 3",
   "language": "python",
   "name": "python3"
  },
  "language_info": {
   "codemirror_mode": {
    "name": "ipython",
    "version": 3
   },
   "file_extension": ".py",
   "mimetype": "text/x-python",
   "name": "python",
   "nbconvert_exporter": "python",
   "pygments_lexer": "ipython3",
   "version": "3.6.3"
  },
  "toc": {
   "nav_menu": {},
   "number_sections": true,
   "sideBar": true,
   "skip_h1_title": true,
   "toc_cell": true,
   "toc_position": {},
   "toc_section_display": "block",
   "toc_window_display": true
  }
 },
 "nbformat": 4,
 "nbformat_minor": 2
}
