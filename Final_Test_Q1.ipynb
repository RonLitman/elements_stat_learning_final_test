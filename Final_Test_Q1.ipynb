{
 "cells": [
  {
   "cell_type": "code",
   "execution_count": 1,
   "metadata": {},
   "outputs": [
    {
     "name": "stderr",
     "output_type": "stream",
     "text": [
      "/Users/ronlitman/.virtualenvs/sd36/lib/python3.6/site-packages/sklearn/cross_validation.py:41: DeprecationWarning: This module was deprecated in version 0.18 in favor of the model_selection module into which all the refactored classes and functions are moved. Also note that the interface of the new CV iterators are different from that of this module. This module will be removed in 0.20.\n",
      "  \"This module will be removed in 0.20.\", DeprecationWarning)\n"
     ]
    }
   ],
   "source": [
    "import warnings\n",
    "warnings.filterwarnings('ignore')\n",
    "import numpy as np\n",
    "import pandas as pd\n",
    "from utilities import *\n",
    "import matplotlib.pyplot as plt\n",
    "from matplotlib import style\n",
    "style.use('fivethirtyeight')\n",
    "%matplotlib inline"
   ]
  },
  {
   "cell_type": "markdown",
   "metadata": {},
   "source": [
    "# Final Test - Q1"
   ]
  },
  {
   "cell_type": "markdown",
   "metadata": {
    "toc": true
   },
   "source": [
    "<h1>Table of Contents<span class=\"tocSkip\"></span></h1>\n",
    "<div class=\"toc\" style=\"margin-top: 1em;\"><ul class=\"toc-item\"><li><span><a href=\"#Intro\" data-toc-modified-id=\"Intro-1\"><span class=\"toc-item-num\">1&nbsp;&nbsp;</span>Intro</a></span></li><li><span><a href=\"#Setting-up-the-Data|\" data-toc-modified-id=\"Setting-up-the-Data|-2\"><span class=\"toc-item-num\">2&nbsp;&nbsp;</span>Setting up the Data|</a></span><ul class=\"toc-item\"><li><span><a href=\"#Spliting-the-Data-into-a-random-unseen-test-file\" data-toc-modified-id=\"Spliting-the-Data-into-a-random-unseen-test-file-2.1\"><span class=\"toc-item-num\">2.1&nbsp;&nbsp;</span>Spliting the Data into a random unseen test file</a></span></li></ul></li><li><span><a href=\"#Linaer-model---No-regulation\" data-toc-modified-id=\"Linaer-model---No-regulation-3\"><span class=\"toc-item-num\">3&nbsp;&nbsp;</span>Linaer model - No regulation</a></span></li><li><span><a href=\"#Linaer-model---Lasso\" data-toc-modified-id=\"Linaer-model---Lasso-4\"><span class=\"toc-item-num\">4&nbsp;&nbsp;</span>Linaer model - Lasso</a></span><ul class=\"toc-item\"><li><span><a href=\"#Finding-S-using-10-fold-CV\" data-toc-modified-id=\"Finding-S-using-10-fold-CV-4.1\"><span class=\"toc-item-num\">4.1&nbsp;&nbsp;</span>Finding S using 10 fold CV</a></span></li><li><span><a href=\"#Training-Lasso\" data-toc-modified-id=\"Training-Lasso-4.2\"><span class=\"toc-item-num\">4.2&nbsp;&nbsp;</span>Training Lasso</a></span></li></ul></li><li><span><a href=\"#Linaer-model---Ridge\" data-toc-modified-id=\"Linaer-model---Ridge-5\"><span class=\"toc-item-num\">5&nbsp;&nbsp;</span>Linaer model - Ridge</a></span><ul class=\"toc-item\"><li><span><a href=\"#Finding-lammda-using-10-fold-CV\" data-toc-modified-id=\"Finding-lammda-using-10-fold-CV-5.1\"><span class=\"toc-item-num\">5.1&nbsp;&nbsp;</span>Finding lammda using 10 fold CV</a></span></li><li><span><a href=\"#Training-Ridge\" data-toc-modified-id=\"Training-Ridge-5.2\"><span class=\"toc-item-num\">5.2&nbsp;&nbsp;</span>Training Ridge</a></span></li></ul></li><li><span><a href=\"#KNN---cosine-similarity\" data-toc-modified-id=\"KNN---cosine-similarity-6\"><span class=\"toc-item-num\">6&nbsp;&nbsp;</span>KNN - cosine similarity</a></span><ul class=\"toc-item\"><li><span><a href=\"#Finding-K-using-10-fold-CV\" data-toc-modified-id=\"Finding-K-using-10-fold-CV-6.1\"><span class=\"toc-item-num\">6.1&nbsp;&nbsp;</span>Finding K using 10 fold CV</a></span></li><li><span><a href=\"#Training-KNN---cosine-similarity\" data-toc-modified-id=\"Training-KNN---cosine-similarity-6.2\"><span class=\"toc-item-num\">6.2&nbsp;&nbsp;</span>Training KNN - cosine similarity</a></span></li></ul></li><li><span><a href=\"#KNN---Euclidean\" data-toc-modified-id=\"KNN---Euclidean-7\"><span class=\"toc-item-num\">7&nbsp;&nbsp;</span>KNN - Euclidean</a></span><ul class=\"toc-item\"><li><span><a href=\"#Finding-K-using-10-fold-CV\" data-toc-modified-id=\"Finding-K-using-10-fold-CV-7.1\"><span class=\"toc-item-num\">7.1&nbsp;&nbsp;</span>Finding K using 10 fold CV</a></span></li><li><span><a href=\"#Training-KNN---Euclidean\" data-toc-modified-id=\"Training-KNN---Euclidean-7.2\"><span class=\"toc-item-num\">7.2&nbsp;&nbsp;</span>Training KNN - Euclidean</a></span></li></ul></li><li><span><a href=\"#Gradient-Boosting\" data-toc-modified-id=\"Gradient-Boosting-8\"><span class=\"toc-item-num\">8&nbsp;&nbsp;</span>Gradient Boosting</a></span></li><li><span><a href=\"#Light-Gradient-Boosting\" data-toc-modified-id=\"Light-Gradient-Boosting-9\"><span class=\"toc-item-num\">9&nbsp;&nbsp;</span>Light Gradient Boosting</a></span></li><li><span><a href=\"#Results-Summary---Test-data\" data-toc-modified-id=\"Results-Summary---Test-data-10\"><span class=\"toc-item-num\">10&nbsp;&nbsp;</span>Results Summary - Test data</a></span></li></ul></div>"
   ]
  },
  {
   "cell_type": "markdown",
   "metadata": {},
   "source": [
    "## Intro"
   ]
  },
  {
   "cell_type": "markdown",
   "metadata": {},
   "source": [
    "During the Netflix competition (my partner was Nadav Nagel) our best score was - 0.75468, where a summary of what we have done is:\n",
    "\n",
    "Feature engineering:\n",
    "* For filling the missing data we used a linear model (with L1) to predict a column missing values based on all the column that we already had full prediction base on them (that is the first column we predicted is the 15th base on the first 14 full columns)\n",
    "* Overall Avg rating\n",
    "* Avg rating the same day as movie Y\n",
    "* Avg rating the same week as movie Y\n",
    "* Std rating the same day as movie Y\n",
    "* Std rating the same week as movie Y\n",
    "* Number of 1 score on the same day as movie Y (was added only now thanks to the winners presentation)\n",
    "* Number of 5 score on the same day as movie Y (was added only now thanks to the winners presentation)\n",
    "* A vector of 1/0 base on rated the movie or not (was added only now thanks to the winners presentation)\n",
    "\n",
    "After getting the full Data frame ready for modling we tried sevreal methods:\n",
    "* Linaer model - Lasso\n",
    "* Linaer model - Ridge\n",
    "* KNN - cosine similarity\n",
    "* KNN - Euclidean\n",
    "* Gradient Boosting\n",
    "* Light Gradient Boosting (see documentation here: https://lightgbm.readthedocs.io/en/latest/ / https://papers.nips.cc/paper/6907-lightgbm-a-highly-efficient-gradient-boosting-decision-tree.pdf)\n",
    "\n",
    "For the submissions we mainly used Light Gradient Boosting, i will now show tha main results for each model"
   ]
  },
  {
   "cell_type": "markdown",
   "metadata": {},
   "source": [
    "## Setting up the Data|"
   ]
  },
  {
   "cell_type": "code",
   "execution_count": 2,
   "metadata": {},
   "outputs": [],
   "source": [
    "movie_titles, train, test = load_and_set_data()\n",
    "\n",
    "train, test = set_df(train, test)"
   ]
  },
  {
   "cell_type": "markdown",
   "metadata": {},
   "source": [
    "### Spliting the Data into a random unseen test file"
   ]
  },
  {
   "cell_type": "markdown",
   "metadata": {},
   "source": [
    "Some of the models requires some tuning of hyper param so we will save the test data and will use it to predict only at the end (20% = 2000 samples)"
   ]
  },
  {
   "cell_type": "code",
   "execution_count": 5,
   "metadata": {},
   "outputs": [],
   "source": [
    "x_train, x_test, y_train, y_test = split_train_dev(train['train_ratings_all'], train['train_y_rating'], test_size=0.2)"
   ]
  },
  {
   "cell_type": "markdown",
   "metadata": {},
   "source": [
    "## Linaer model - No regulation"
   ]
  },
  {
   "cell_type": "code",
   "execution_count": 6,
   "metadata": {},
   "outputs": [
    {
     "name": "stdout",
     "output_type": "stream",
     "text": [
      "\n",
      "\n",
      "Training a Linear model - normal with alpha = 0.006\n",
      "RMSE on Train is: 0.7402964456260299\n",
      "RMSE on Test is: 0.7589485141146299\n"
     ]
    }
   ],
   "source": [
    "mse_train_reg_lin, mse_test_reg_lin = run_lin_model(x_train, x_test, y_train, y_test, method='normal')"
   ]
  },
  {
   "cell_type": "markdown",
   "metadata": {},
   "source": [
    "## Linaer model - Lasso"
   ]
  },
  {
   "cell_type": "markdown",
   "metadata": {},
   "source": [
    "### Finding S using 10 fold CV"
   ]
  },
  {
   "cell_type": "code",
   "execution_count": 7,
   "metadata": {},
   "outputs": [
    {
     "data": {
      "image/png": "[encoded data removed]",
      "text/plain": [
       "<matplotlib.figure.Figure at 0x10c941da0>"
      ]
     },
     "metadata": {},
     "output_type": "display_data"
    }
   ],
   "source": [
    "alphas = np.linspace(0.0, 0.01, num=100)\n",
    "alphas_opt = run_cv_to_find_lammda(x_train, y_train, alphas, method='Lasso')"
   ]
  },
  {
   "cell_type": "markdown",
   "metadata": {},
   "source": [
    "### Training Lasso"
   ]
  },
  {
   "cell_type": "markdown",
   "metadata": {},
   "source": [
    "using the S we found in the 10 fold CV and predicting on the unseen test"
   ]
  },
  {
   "cell_type": "code",
   "execution_count": 8,
   "metadata": {},
   "outputs": [
    {
     "name": "stdout",
     "output_type": "stream",
     "text": [
      "\n",
      "\n",
      "Training a Linear model - Lasso with alpha = 0.0038383838383838384\n",
      "RMSE on Train is: 0.7451512345660355\n",
      "RMSE on Test is: 0.7541621281531184\n"
     ]
    }
   ],
   "source": [
    "mse_train_reg_lin_l1, mse_test_reg_lin_l1 = run_lin_model(x_train, x_test, y_train, y_test, alpha=alphas_opt, method='Lasso')"
   ]
  },
  {
   "cell_type": "markdown",
   "metadata": {},
   "source": [
    "## Linaer model - Ridge"
   ]
  },
  {
   "cell_type": "markdown",
   "metadata": {},
   "source": [
    "### Finding lammda using 10 fold CV"
   ]
  },
  {
   "cell_type": "code",
   "execution_count": 9,
   "metadata": {},
   "outputs": [
    {
     "data": {
      "image/png": "[encoded data removed]",
      "text/plain": [
       "<matplotlib.figure.Figure at 0x10c973400>"
      ]
     },
     "metadata": {},
     "output_type": "display_data"
    }
   ],
   "source": [
    "alphas = np.linspace(100, 1000, num=100)\n",
    "alphas_opt = run_cv_to_find_lammda(x_train, y_train, alphas, method='Ridge')"
   ]
  },
  {
   "cell_type": "markdown",
   "metadata": {},
   "source": [
    "### Training Ridge"
   ]
  },
  {
   "cell_type": "markdown",
   "metadata": {},
   "source": [
    "using the lammda we found in the 10 fold CV and predicting on the unseen test"
   ]
  },
  {
   "cell_type": "code",
   "execution_count": 10,
   "metadata": {},
   "outputs": [
    {
     "name": "stdout",
     "output_type": "stream",
     "text": [
      "\n",
      "\n",
      "Training a Linear model - Ridge with alpha = 690.909090909091\n",
      "RMSE on Train is: 0.7433736373512059\n",
      "RMSE on Test is: 0.7547471986161586\n"
     ]
    }
   ],
   "source": [
    "mse_train_reg_lin_l2, mse_test_reg_lin_l2 = run_lin_model(x_train, x_test, y_train, y_test, alpha=alphas_opt, method='Ridge')"
   ]
  },
  {
   "cell_type": "markdown",
   "metadata": {},
   "source": [
    "## KNN - cosine similarity"
   ]
  },
  {
   "cell_type": "markdown",
   "metadata": {},
   "source": [
    "### Finding K using 10 fold CV"
   ]
  },
  {
   "cell_type": "code",
   "execution_count": 11,
   "metadata": {},
   "outputs": [
    {
     "data": {
      "image/png": "[encoded data removed]",
      "text/plain": [
       "<matplotlib.figure.Figure at 0x10c973320>"
      ]
     },
     "metadata": {},
     "output_type": "display_data"
    }
   ],
   "source": [
    "ks = np.linspace(1, 50, num=50)\n",
    "k_opt = run_cv_to_find_k(x_train, y_train, ks, metric='cosine')"
   ]
  },
  {
   "cell_type": "markdown",
   "metadata": {},
   "source": [
    "### Training KNN - cosine similarity"
   ]
  },
  {
   "cell_type": "markdown",
   "metadata": {},
   "source": [
    "using the K we found in the 10 fold CV and predicting on the unseen test"
   ]
  },
  {
   "cell_type": "code",
   "execution_count": 12,
   "metadata": {},
   "outputs": [
    {
     "name": "stdout",
     "output_type": "stream",
     "text": [
      "\n",
      "\n",
      "Training a KNN model with cosine_similarity for k = 30.0\n",
      "RMSE on Train is: 0.8840003028845634\n",
      "RMSE on Test is: 0.8829565493273155\n"
     ]
    }
   ],
   "source": [
    "mse_test_reg_cosine = run_knn_cosine(x_train, x_test, y_train, y_test, k=k_opt)"
   ]
  },
  {
   "cell_type": "markdown",
   "metadata": {},
   "source": [
    "## KNN - Euclidean"
   ]
  },
  {
   "cell_type": "markdown",
   "metadata": {},
   "source": [
    "### Finding K using 10 fold CV"
   ]
  },
  {
   "cell_type": "code",
   "execution_count": 13,
   "metadata": {},
   "outputs": [
    {
     "data": {
      "image/png": "[encoded data removed]",
      "text/plain": [
       "<matplotlib.figure.Figure at 0x104a92780>"
      ]
     },
     "metadata": {},
     "output_type": "display_data"
    }
   ],
   "source": [
    "ks = np.linspace(1, 50, num=5)\n",
    "k_opt = run_cv_to_find_k(x_train, y_train, ks, metric='euclidean')"
   ]
  },
  {
   "cell_type": "markdown",
   "metadata": {},
   "source": [
    "### Training KNN - Euclidean"
   ]
  },
  {
   "cell_type": "markdown",
   "metadata": {},
   "source": [
    "using the K we found in the 10 fold CV and predicting on the unseen test"
   ]
  },
  {
   "cell_type": "code",
   "execution_count": 14,
   "metadata": {},
   "outputs": [
    {
     "name": "stdout",
     "output_type": "stream",
     "text": [
      "\n",
      "\n",
      "Training a KNN model with euclidean for k = 13.25\n",
      "RMSE on Train is: 0.9495755191136722\n",
      "RMSE on Test is: 0.9503815833653344\n"
     ]
    }
   ],
   "source": [
    "mse_test_reg_euclidean = run_knn_euclidean(x_train, x_test, y_train, y_test, k=k_opt)"
   ]
  },
  {
   "cell_type": "markdown",
   "metadata": {},
   "source": [
    "## Gradient Boosting"
   ]
  },
  {
   "cell_type": "code",
   "execution_count": 15,
   "metadata": {},
   "outputs": [
    {
     "name": "stdout",
     "output_type": "stream",
     "text": [
      "\n",
      "\n",
      "Training a GradientBoostingRegressor model\n",
      "Params that are being used for training are: {'n_estimators': 500, 'max_depth': 10, 'min_samples_split': 2, 'learning_rate': 0.01, 'loss': 'ls', 'max_features': 'sqrt'}\n",
      "RMSE on Train is: 0.2233448270277548\n",
      "RMSE on Test is: 0.7595241661802443\n"
     ]
    }
   ],
   "source": [
    "mse_train_reg_gb, mse_test_reg_gb = run_gb(x_train, x_test, y_train, y_test)"
   ]
  },
  {
   "cell_type": "markdown",
   "metadata": {},
   "source": [
    "## Light Gradient Boosting"
   ]
  },
  {
   "cell_type": "markdown",
   "metadata": {},
   "source": [
    "For running the LGB model we used an Early stopping rule so we had to devide the train data to train and dev and then predict on the unseen test data"
   ]
  },
  {
   "cell_type": "code",
   "execution_count": 16,
   "metadata": {},
   "outputs": [
    {
     "name": "stdout",
     "output_type": "stream",
     "text": [
      "\n",
      "\n",
      "Training a lightgbm model\n",
      "Params that are being used for training are: {'objective': 'regression', 'metric': 'rmse', 'num_leaves': 40, 'learning_rate': 0.005, 'bagging_fraction': 0.6, 'feature_fraction': 0.6, 'bagging_frequency': 1, 'verbosity': -1}\n",
      "Training until validation scores don't improve for 500 rounds.\n",
      "[150]\ttraining's rmse: 0.79038\tvalid_1's rmse: 0.83564\n",
      "[300]\ttraining's rmse: 0.714508\tvalid_1's rmse: 0.788761\n",
      "[450]\ttraining's rmse: 0.668743\tvalid_1's rmse: 0.771049\n",
      "[600]\ttraining's rmse: 0.633243\tvalid_1's rmse: 0.762643\n",
      "[750]\ttraining's rmse: 0.603134\tvalid_1's rmse: 0.759055\n",
      "[900]\ttraining's rmse: 0.576492\tvalid_1's rmse: 0.757015\n",
      "[1050]\ttraining's rmse: 0.552845\tvalid_1's rmse: 0.756088\n",
      "[1200]\ttraining's rmse: 0.531573\tvalid_1's rmse: 0.755273\n",
      "[1350]\ttraining's rmse: 0.512207\tvalid_1's rmse: 0.754825\n",
      "[1500]\ttraining's rmse: 0.493889\tvalid_1's rmse: 0.754268\n",
      "[1650]\ttraining's rmse: 0.476897\tvalid_1's rmse: 0.753713\n",
      "[1800]\ttraining's rmse: 0.460997\tvalid_1's rmse: 0.753209\n",
      "[1950]\ttraining's rmse: 0.44586\tvalid_1's rmse: 0.752964\n",
      "[2100]\ttraining's rmse: 0.431602\tvalid_1's rmse: 0.752956\n",
      "[2250]\ttraining's rmse: 0.417952\tvalid_1's rmse: 0.752681\n",
      "[2400]\ttraining's rmse: 0.404957\tvalid_1's rmse: 0.752444\n",
      "[2550]\ttraining's rmse: 0.392448\tvalid_1's rmse: 0.752299\n",
      "[2700]\ttraining's rmse: 0.380428\tvalid_1's rmse: 0.752257\n",
      "[2850]\ttraining's rmse: 0.368757\tvalid_1's rmse: 0.752473\n",
      "Early stopping, best iteration is:\n",
      "[2475]\ttraining's rmse: 0.39866\tvalid_1's rmse: 0.752187\n",
      "RMSE on Train is: 0.39865952393296233\n",
      "RMSE on DEV is: 0.7521868203885053\n",
      "RMSE on Test is: 0.7544891019423587\n"
     ]
    }
   ],
   "source": [
    "mse_train_reg_lgb, mse_dev_reg_lgb, mse_test_reg_lgb = run_lgb_model(x_train, x_test, y_train, y_test)"
   ]
  },
  {
   "cell_type": "markdown",
   "metadata": {},
   "source": [
    "## Results Summary - Test data"
   ]
  },
  {
   "cell_type": "code",
   "execution_count": 17,
   "metadata": {},
   "outputs": [
    {
     "name": "stdout",
     "output_type": "stream",
     "text": [
      "For Linaer model - Lasso the RMSE is: 0.7541621281531184\n",
      "For Linaer model - Ridge the RMSE is: 0.7547471986161586\n",
      "For KNN - cosine similarity the RMSE is: 0.8829565493273155\n",
      "For KNN - Euclidean the RMSE is: 0.9503815833653344\n",
      "For Gradient Boosting the RMSE is: 0.7595241661802443\n",
      "For Light Gradient Boosting the RMSE is: 0.7544891019423587\n"
     ]
    }
   ],
   "source": [
    "print('For Linaer model - Lasso the RMSE is: {}'.format(mse_test_reg_lin_l1))\n",
    "print('For Linaer model - Ridge the RMSE is: {}'.format(mse_test_reg_lin_l2))\n",
    "print('For KNN - cosine similarity the RMSE is: {}'.format(mse_test_reg_cosine))\n",
    "print('For KNN - Euclidean the RMSE is: {}'.format(mse_test_reg_euclidean))\n",
    "print('For Gradient Boosting the RMSE is: {}'.format(mse_test_reg_gb))\n",
    "print('For Light Gradient Boosting the RMSE is: {}'.format(mse_test_reg_lgb))"
   ]
  },
  {
   "cell_type": "code",
   "execution_count": null,
   "metadata": {},
   "outputs": [],
   "source": []
  },
  {
   "cell_type": "code",
   "execution_count": null,
   "metadata": {},
   "outputs": [],
   "source": []
  },
  {
   "cell_type": "code",
   "execution_count": null,
   "metadata": {},
   "outputs": [],
   "source": []
  },
  {
   "cell_type": "code",
   "execution_count": null,
   "metadata": {},
   "outputs": [],
   "source": []
  }
 ],
 "metadata": {
  "kernelspec": {
   "display_name": "Python 3",
   "language": "python",
   "name": "python3"
  },
  "language_info": {
   "codemirror_mode": {
    "name": "ipython",
    "version": 3
   },
   "file_extension": ".py",
   "mimetype": "text/x-python",
   "name": "python",
   "nbconvert_exporter": "python",
   "pygments_lexer": "ipython3",
   "version": "3.6.3"
  },
  "toc": {
   "nav_menu": {},
   "number_sections": true,
   "sideBar": true,
   "skip_h1_title": true,
   "toc_cell": true,
   "toc_position": {},
   "toc_section_display": "block",
   "toc_window_display": true
  }
 },
 "nbformat": 4,
 "nbformat_minor": 2
}
